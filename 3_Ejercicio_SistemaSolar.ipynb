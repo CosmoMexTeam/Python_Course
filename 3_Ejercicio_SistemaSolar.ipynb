{
 "cells": [
  {
   "cell_type": "code",
   "execution_count": 1,
   "metadata": {},
   "outputs": [],
   "source": [
    "import pandas as pd\n",
    "import numpy as np"
   ]
  },
  {
   "cell_type": "markdown",
   "metadata": {},
   "source": [
    "# **Es posible importar tablas de datos desde sitios web usando read_html**"
   ]
  },
  {
   "cell_type": "code",
   "execution_count": 2,
   "metadata": {},
   "outputs": [],
   "source": [
    "#data= pd.read_html('https://www.rmg.co.uk/discover/explore/solar-system-data')\n",
    "data= pd.read_csv('./Data/orbitas.csv', sep='\\t')"
   ]
  },
  {
   "cell_type": "code",
   "execution_count": 3,
   "metadata": {},
   "outputs": [
    {
     "data": {
      "text/plain": [
       "pandas.core.frame.DataFrame"
      ]
     },
     "execution_count": 3,
     "metadata": {},
     "output_type": "execute_result"
    }
   ],
   "source": [
    "type(data)"
   ]
  },
  {
   "cell_type": "code",
   "execution_count": 4,
   "metadata": {},
   "outputs": [
    {
     "data": {
      "text/plain": [
       "(9, 6)"
      ]
     },
     "execution_count": 4,
     "metadata": {},
     "output_type": "execute_result"
    }
   ],
   "source": [
    "np.shape(data)"
   ]
  },
  {
   "cell_type": "code",
   "execution_count": 5,
   "metadata": {},
   "outputs": [
    {
     "data": {
      "text/html": [
       "<div>\n",
       "<style scoped>\n",
       "    .dataframe tbody tr th:only-of-type {\n",
       "        vertical-align: middle;\n",
       "    }\n",
       "\n",
       "    .dataframe tbody tr th {\n",
       "        vertical-align: top;\n",
       "    }\n",
       "\n",
       "    .dataframe thead th {\n",
       "        text-align: right;\n",
       "    }\n",
       "</style>\n",
       "<table border=\"1\" class=\"dataframe\">\n",
       "  <thead>\n",
       "    <tr style=\"text-align: right;\">\n",
       "      <th></th>\n",
       "      <th>Unnamed: 0</th>\n",
       "      <th>0</th>\n",
       "      <th>1</th>\n",
       "      <th>2</th>\n",
       "      <th>3</th>\n",
       "      <th>4</th>\n",
       "    </tr>\n",
       "  </thead>\n",
       "  <tbody>\n",
       "    <tr>\n",
       "      <th>0</th>\n",
       "      <td>0</td>\n",
       "      <td>Name</td>\n",
       "      <td>Sidereal Period</td>\n",
       "      <td>Perihelion (AU)</td>\n",
       "      <td>Aphelion (AU)</td>\n",
       "      <td>Inclination (degrees)</td>\n",
       "    </tr>\n",
       "    <tr>\n",
       "      <th>1</th>\n",
       "      <td>1</td>\n",
       "      <td>Mercury</td>\n",
       "      <td>87.97d</td>\n",
       "      <td>0.31</td>\n",
       "      <td>0.47</td>\n",
       "      <td>7.0</td>\n",
       "    </tr>\n",
       "    <tr>\n",
       "      <th>2</th>\n",
       "      <td>2</td>\n",
       "      <td>Venus</td>\n",
       "      <td>224.70d</td>\n",
       "      <td>0.72</td>\n",
       "      <td>0.73</td>\n",
       "      <td>3.4</td>\n",
       "    </tr>\n",
       "    <tr>\n",
       "      <th>3</th>\n",
       "      <td>3</td>\n",
       "      <td>Earth</td>\n",
       "      <td>365.26d</td>\n",
       "      <td>0.98</td>\n",
       "      <td>1.02</td>\n",
       "      <td>0.0</td>\n",
       "    </tr>\n",
       "    <tr>\n",
       "      <th>4</th>\n",
       "      <td>4</td>\n",
       "      <td>Mars</td>\n",
       "      <td>686.98d</td>\n",
       "      <td>1.38</td>\n",
       "      <td>1.67</td>\n",
       "      <td>1.8</td>\n",
       "    </tr>\n",
       "    <tr>\n",
       "      <th>5</th>\n",
       "      <td>5</td>\n",
       "      <td>Jupiter</td>\n",
       "      <td>11.86y</td>\n",
       "      <td>4.95</td>\n",
       "      <td>5.45</td>\n",
       "      <td>1.3</td>\n",
       "    </tr>\n",
       "    <tr>\n",
       "      <th>6</th>\n",
       "      <td>6</td>\n",
       "      <td>Saturn</td>\n",
       "      <td>29.46y</td>\n",
       "      <td>9.01</td>\n",
       "      <td>10.07</td>\n",
       "      <td>2.5</td>\n",
       "    </tr>\n",
       "    <tr>\n",
       "      <th>7</th>\n",
       "      <td>7</td>\n",
       "      <td>Uranus</td>\n",
       "      <td>84.01y</td>\n",
       "      <td>18.28</td>\n",
       "      <td>20.09</td>\n",
       "      <td>0.8</td>\n",
       "    </tr>\n",
       "    <tr>\n",
       "      <th>8</th>\n",
       "      <td>8</td>\n",
       "      <td>Neptune</td>\n",
       "      <td>164.79y</td>\n",
       "      <td>29.80</td>\n",
       "      <td>30.32</td>\n",
       "      <td>1.8</td>\n",
       "    </tr>\n",
       "  </tbody>\n",
       "</table>\n",
       "</div>"
      ],
      "text/plain": [
       "   Unnamed: 0        0                1                2              3  \\\n",
       "0           0     Name  Sidereal Period  Perihelion (AU)  Aphelion (AU)   \n",
       "1           1  Mercury           87.97d             0.31           0.47   \n",
       "2           2    Venus          224.70d             0.72           0.73   \n",
       "3           3    Earth          365.26d             0.98           1.02   \n",
       "4           4     Mars          686.98d             1.38           1.67   \n",
       "5           5  Jupiter           11.86y             4.95           5.45   \n",
       "6           6   Saturn           29.46y             9.01          10.07   \n",
       "7           7   Uranus           84.01y            18.28          20.09   \n",
       "8           8  Neptune          164.79y            29.80          30.32   \n",
       "\n",
       "                       4  \n",
       "0  Inclination (degrees)  \n",
       "1                    7.0  \n",
       "2                    3.4  \n",
       "3                    0.0  \n",
       "4                    1.8  \n",
       "5                    1.3  \n",
       "6                    2.5  \n",
       "7                    0.8  \n",
       "8                    1.8  "
      ]
     },
     "execution_count": 5,
     "metadata": {},
     "output_type": "execute_result"
    }
   ],
   "source": [
    "data"
   ]
  },
  {
   "cell_type": "code",
   "execution_count": 6,
   "metadata": {},
   "outputs": [
    {
     "data": {
      "text/html": [
       "<div>\n",
       "<style scoped>\n",
       "    .dataframe tbody tr th:only-of-type {\n",
       "        vertical-align: middle;\n",
       "    }\n",
       "\n",
       "    .dataframe tbody tr th {\n",
       "        vertical-align: top;\n",
       "    }\n",
       "\n",
       "    .dataframe thead th {\n",
       "        text-align: right;\n",
       "    }\n",
       "</style>\n",
       "<table border=\"1\" class=\"dataframe\">\n",
       "  <thead>\n",
       "    <tr style=\"text-align: right;\">\n",
       "      <th></th>\n",
       "      <th>0</th>\n",
       "      <th>1</th>\n",
       "      <th>2</th>\n",
       "      <th>3</th>\n",
       "      <th>4</th>\n",
       "    </tr>\n",
       "  </thead>\n",
       "  <tbody>\n",
       "    <tr>\n",
       "      <th>0</th>\n",
       "      <td>Name</td>\n",
       "      <td>Sidereal Period</td>\n",
       "      <td>Perihelion (AU)</td>\n",
       "      <td>Aphelion (AU)</td>\n",
       "      <td>Inclination (degrees)</td>\n",
       "    </tr>\n",
       "    <tr>\n",
       "      <th>1</th>\n",
       "      <td>Mercury</td>\n",
       "      <td>87.97d</td>\n",
       "      <td>0.31</td>\n",
       "      <td>0.47</td>\n",
       "      <td>7.0</td>\n",
       "    </tr>\n",
       "    <tr>\n",
       "      <th>2</th>\n",
       "      <td>Venus</td>\n",
       "      <td>224.70d</td>\n",
       "      <td>0.72</td>\n",
       "      <td>0.73</td>\n",
       "      <td>3.4</td>\n",
       "    </tr>\n",
       "    <tr>\n",
       "      <th>3</th>\n",
       "      <td>Earth</td>\n",
       "      <td>365.26d</td>\n",
       "      <td>0.98</td>\n",
       "      <td>1.02</td>\n",
       "      <td>0.0</td>\n",
       "    </tr>\n",
       "    <tr>\n",
       "      <th>4</th>\n",
       "      <td>Mars</td>\n",
       "      <td>686.98d</td>\n",
       "      <td>1.38</td>\n",
       "      <td>1.67</td>\n",
       "      <td>1.8</td>\n",
       "    </tr>\n",
       "    <tr>\n",
       "      <th>5</th>\n",
       "      <td>Jupiter</td>\n",
       "      <td>11.86y</td>\n",
       "      <td>4.95</td>\n",
       "      <td>5.45</td>\n",
       "      <td>1.3</td>\n",
       "    </tr>\n",
       "    <tr>\n",
       "      <th>6</th>\n",
       "      <td>Saturn</td>\n",
       "      <td>29.46y</td>\n",
       "      <td>9.01</td>\n",
       "      <td>10.07</td>\n",
       "      <td>2.5</td>\n",
       "    </tr>\n",
       "    <tr>\n",
       "      <th>7</th>\n",
       "      <td>Uranus</td>\n",
       "      <td>84.01y</td>\n",
       "      <td>18.28</td>\n",
       "      <td>20.09</td>\n",
       "      <td>0.8</td>\n",
       "    </tr>\n",
       "    <tr>\n",
       "      <th>8</th>\n",
       "      <td>Neptune</td>\n",
       "      <td>164.79y</td>\n",
       "      <td>29.80</td>\n",
       "      <td>30.32</td>\n",
       "      <td>1.8</td>\n",
       "    </tr>\n",
       "  </tbody>\n",
       "</table>\n",
       "</div>"
      ],
      "text/plain": [
       "         0                1                2              3  \\\n",
       "0     Name  Sidereal Period  Perihelion (AU)  Aphelion (AU)   \n",
       "1  Mercury           87.97d             0.31           0.47   \n",
       "2    Venus          224.70d             0.72           0.73   \n",
       "3    Earth          365.26d             0.98           1.02   \n",
       "4     Mars          686.98d             1.38           1.67   \n",
       "5  Jupiter           11.86y             4.95           5.45   \n",
       "6   Saturn           29.46y             9.01          10.07   \n",
       "7   Uranus           84.01y            18.28          20.09   \n",
       "8  Neptune          164.79y            29.80          30.32   \n",
       "\n",
       "                       4  \n",
       "0  Inclination (degrees)  \n",
       "1                    7.0  \n",
       "2                    3.4  \n",
       "3                    0.0  \n",
       "4                    1.8  \n",
       "5                    1.3  \n",
       "6                    2.5  \n",
       "7                    0.8  \n",
       "8                    1.8  "
      ]
     },
     "execution_count": 6,
     "metadata": {},
     "output_type": "execute_result"
    }
   ],
   "source": [
    "data=data.drop('Unnamed: 0', axis=1)\n",
    "data"
   ]
  },
  {
   "cell_type": "code",
   "execution_count": 7,
   "metadata": {},
   "outputs": [],
   "source": [
    "nom_filas=list(data['0'].values)\n",
    "nom_columnas=list(data.loc[0].values)"
   ]
  },
  {
   "cell_type": "code",
   "execution_count": 8,
   "metadata": {},
   "outputs": [
    {
     "data": {
      "text/html": [
       "<div>\n",
       "<style scoped>\n",
       "    .dataframe tbody tr th:only-of-type {\n",
       "        vertical-align: middle;\n",
       "    }\n",
       "\n",
       "    .dataframe tbody tr th {\n",
       "        vertical-align: top;\n",
       "    }\n",
       "\n",
       "    .dataframe thead th {\n",
       "        text-align: right;\n",
       "    }\n",
       "</style>\n",
       "<table border=\"1\" class=\"dataframe\">\n",
       "  <thead>\n",
       "    <tr style=\"text-align: right;\">\n",
       "      <th></th>\n",
       "      <th>Name</th>\n",
       "      <th>Sidereal Period</th>\n",
       "      <th>Perihelion (AU)</th>\n",
       "      <th>Aphelion (AU)</th>\n",
       "      <th>Inclination (degrees)</th>\n",
       "    </tr>\n",
       "  </thead>\n",
       "  <tbody>\n",
       "    <tr>\n",
       "      <th>Name</th>\n",
       "      <td>Name</td>\n",
       "      <td>Sidereal Period</td>\n",
       "      <td>Perihelion (AU)</td>\n",
       "      <td>Aphelion (AU)</td>\n",
       "      <td>Inclination (degrees)</td>\n",
       "    </tr>\n",
       "    <tr>\n",
       "      <th>Mercury</th>\n",
       "      <td>Mercury</td>\n",
       "      <td>87.97d</td>\n",
       "      <td>0.31</td>\n",
       "      <td>0.47</td>\n",
       "      <td>7.0</td>\n",
       "    </tr>\n",
       "    <tr>\n",
       "      <th>Venus</th>\n",
       "      <td>Venus</td>\n",
       "      <td>224.70d</td>\n",
       "      <td>0.72</td>\n",
       "      <td>0.73</td>\n",
       "      <td>3.4</td>\n",
       "    </tr>\n",
       "    <tr>\n",
       "      <th>Earth</th>\n",
       "      <td>Earth</td>\n",
       "      <td>365.26d</td>\n",
       "      <td>0.98</td>\n",
       "      <td>1.02</td>\n",
       "      <td>0.0</td>\n",
       "    </tr>\n",
       "    <tr>\n",
       "      <th>Mars</th>\n",
       "      <td>Mars</td>\n",
       "      <td>686.98d</td>\n",
       "      <td>1.38</td>\n",
       "      <td>1.67</td>\n",
       "      <td>1.8</td>\n",
       "    </tr>\n",
       "    <tr>\n",
       "      <th>Jupiter</th>\n",
       "      <td>Jupiter</td>\n",
       "      <td>11.86y</td>\n",
       "      <td>4.95</td>\n",
       "      <td>5.45</td>\n",
       "      <td>1.3</td>\n",
       "    </tr>\n",
       "    <tr>\n",
       "      <th>Saturn</th>\n",
       "      <td>Saturn</td>\n",
       "      <td>29.46y</td>\n",
       "      <td>9.01</td>\n",
       "      <td>10.07</td>\n",
       "      <td>2.5</td>\n",
       "    </tr>\n",
       "    <tr>\n",
       "      <th>Uranus</th>\n",
       "      <td>Uranus</td>\n",
       "      <td>84.01y</td>\n",
       "      <td>18.28</td>\n",
       "      <td>20.09</td>\n",
       "      <td>0.8</td>\n",
       "    </tr>\n",
       "    <tr>\n",
       "      <th>Neptune</th>\n",
       "      <td>Neptune</td>\n",
       "      <td>164.79y</td>\n",
       "      <td>29.80</td>\n",
       "      <td>30.32</td>\n",
       "      <td>1.8</td>\n",
       "    </tr>\n",
       "  </tbody>\n",
       "</table>\n",
       "</div>"
      ],
      "text/plain": [
       "            Name  Sidereal Period  Perihelion (AU)  Aphelion (AU)  \\\n",
       "Name        Name  Sidereal Period  Perihelion (AU)  Aphelion (AU)   \n",
       "Mercury  Mercury           87.97d             0.31           0.47   \n",
       "Venus      Venus          224.70d             0.72           0.73   \n",
       "Earth      Earth          365.26d             0.98           1.02   \n",
       "Mars        Mars          686.98d             1.38           1.67   \n",
       "Jupiter  Jupiter           11.86y             4.95           5.45   \n",
       "Saturn    Saturn           29.46y             9.01          10.07   \n",
       "Uranus    Uranus           84.01y            18.28          20.09   \n",
       "Neptune  Neptune          164.79y            29.80          30.32   \n",
       "\n",
       "         Inclination (degrees)  \n",
       "Name     Inclination (degrees)  \n",
       "Mercury                    7.0  \n",
       "Venus                      3.4  \n",
       "Earth                      0.0  \n",
       "Mars                       1.8  \n",
       "Jupiter                    1.3  \n",
       "Saturn                     2.5  \n",
       "Uranus                     0.8  \n",
       "Neptune                    1.8  "
      ]
     },
     "execution_count": 8,
     "metadata": {},
     "output_type": "execute_result"
    }
   ],
   "source": [
    "data.index=nom_filas\n",
    "data.columns=nom_columnas\n",
    "data"
   ]
  },
  {
   "cell_type": "markdown",
   "metadata": {},
   "source": [
    "# ¿Cómo borrar una columna?"
   ]
  },
  {
   "cell_type": "markdown",
   "metadata": {},
   "source": [
    "## Por nombre de la columna:"
   ]
  },
  {
   "cell_type": "code",
   "execution_count": 9,
   "metadata": {},
   "outputs": [
    {
     "data": {
      "text/html": [
       "<div>\n",
       "<style scoped>\n",
       "    .dataframe tbody tr th:only-of-type {\n",
       "        vertical-align: middle;\n",
       "    }\n",
       "\n",
       "    .dataframe tbody tr th {\n",
       "        vertical-align: top;\n",
       "    }\n",
       "\n",
       "    .dataframe thead th {\n",
       "        text-align: right;\n",
       "    }\n",
       "</style>\n",
       "<table border=\"1\" class=\"dataframe\">\n",
       "  <thead>\n",
       "    <tr style=\"text-align: right;\">\n",
       "      <th></th>\n",
       "      <th>Sidereal Period</th>\n",
       "      <th>Perihelion (AU)</th>\n",
       "      <th>Aphelion (AU)</th>\n",
       "      <th>Inclination (degrees)</th>\n",
       "    </tr>\n",
       "  </thead>\n",
       "  <tbody>\n",
       "    <tr>\n",
       "      <th>Name</th>\n",
       "      <td>Sidereal Period</td>\n",
       "      <td>Perihelion (AU)</td>\n",
       "      <td>Aphelion (AU)</td>\n",
       "      <td>Inclination (degrees)</td>\n",
       "    </tr>\n",
       "    <tr>\n",
       "      <th>Mercury</th>\n",
       "      <td>87.97d</td>\n",
       "      <td>0.31</td>\n",
       "      <td>0.47</td>\n",
       "      <td>7.0</td>\n",
       "    </tr>\n",
       "    <tr>\n",
       "      <th>Venus</th>\n",
       "      <td>224.70d</td>\n",
       "      <td>0.72</td>\n",
       "      <td>0.73</td>\n",
       "      <td>3.4</td>\n",
       "    </tr>\n",
       "    <tr>\n",
       "      <th>Earth</th>\n",
       "      <td>365.26d</td>\n",
       "      <td>0.98</td>\n",
       "      <td>1.02</td>\n",
       "      <td>0.0</td>\n",
       "    </tr>\n",
       "    <tr>\n",
       "      <th>Mars</th>\n",
       "      <td>686.98d</td>\n",
       "      <td>1.38</td>\n",
       "      <td>1.67</td>\n",
       "      <td>1.8</td>\n",
       "    </tr>\n",
       "    <tr>\n",
       "      <th>Jupiter</th>\n",
       "      <td>11.86y</td>\n",
       "      <td>4.95</td>\n",
       "      <td>5.45</td>\n",
       "      <td>1.3</td>\n",
       "    </tr>\n",
       "    <tr>\n",
       "      <th>Saturn</th>\n",
       "      <td>29.46y</td>\n",
       "      <td>9.01</td>\n",
       "      <td>10.07</td>\n",
       "      <td>2.5</td>\n",
       "    </tr>\n",
       "    <tr>\n",
       "      <th>Uranus</th>\n",
       "      <td>84.01y</td>\n",
       "      <td>18.28</td>\n",
       "      <td>20.09</td>\n",
       "      <td>0.8</td>\n",
       "    </tr>\n",
       "    <tr>\n",
       "      <th>Neptune</th>\n",
       "      <td>164.79y</td>\n",
       "      <td>29.80</td>\n",
       "      <td>30.32</td>\n",
       "      <td>1.8</td>\n",
       "    </tr>\n",
       "  </tbody>\n",
       "</table>\n",
       "</div>"
      ],
      "text/plain": [
       "         Sidereal Period  Perihelion (AU)  Aphelion (AU)  \\\n",
       "Name     Sidereal Period  Perihelion (AU)  Aphelion (AU)   \n",
       "Mercury           87.97d             0.31           0.47   \n",
       "Venus            224.70d             0.72           0.73   \n",
       "Earth            365.26d             0.98           1.02   \n",
       "Mars             686.98d             1.38           1.67   \n",
       "Jupiter           11.86y             4.95           5.45   \n",
       "Saturn            29.46y             9.01          10.07   \n",
       "Uranus            84.01y            18.28          20.09   \n",
       "Neptune          164.79y            29.80          30.32   \n",
       "\n",
       "         Inclination (degrees)  \n",
       "Name     Inclination (degrees)  \n",
       "Mercury                    7.0  \n",
       "Venus                      3.4  \n",
       "Earth                      0.0  \n",
       "Mars                       1.8  \n",
       "Jupiter                    1.3  \n",
       "Saturn                     2.5  \n",
       "Uranus                     0.8  \n",
       "Neptune                    1.8  "
      ]
     },
     "execution_count": 9,
     "metadata": {},
     "output_type": "execute_result"
    }
   ],
   "source": [
    "df=data.drop('Name',axis=1)\n",
    "df"
   ]
  },
  {
   "cell_type": "markdown",
   "metadata": {},
   "source": [
    "# ¿Cómo eliminar una fila?"
   ]
  },
  {
   "cell_type": "markdown",
   "metadata": {},
   "source": [
    "## Por numero de fila"
   ]
  },
  {
   "cell_type": "code",
   "execution_count": 10,
   "metadata": {},
   "outputs": [
    {
     "data": {
      "text/html": [
       "<div>\n",
       "<style scoped>\n",
       "    .dataframe tbody tr th:only-of-type {\n",
       "        vertical-align: middle;\n",
       "    }\n",
       "\n",
       "    .dataframe tbody tr th {\n",
       "        vertical-align: top;\n",
       "    }\n",
       "\n",
       "    .dataframe thead th {\n",
       "        text-align: right;\n",
       "    }\n",
       "</style>\n",
       "<table border=\"1\" class=\"dataframe\">\n",
       "  <thead>\n",
       "    <tr style=\"text-align: right;\">\n",
       "      <th></th>\n",
       "      <th>Name</th>\n",
       "      <th>Sidereal Period</th>\n",
       "      <th>Perihelion (AU)</th>\n",
       "      <th>Aphelion (AU)</th>\n",
       "      <th>Inclination (degrees)</th>\n",
       "    </tr>\n",
       "  </thead>\n",
       "  <tbody>\n",
       "    <tr>\n",
       "      <th>Mercury</th>\n",
       "      <td>Mercury</td>\n",
       "      <td>87.97d</td>\n",
       "      <td>0.31</td>\n",
       "      <td>0.47</td>\n",
       "      <td>7.0</td>\n",
       "    </tr>\n",
       "    <tr>\n",
       "      <th>Venus</th>\n",
       "      <td>Venus</td>\n",
       "      <td>224.70d</td>\n",
       "      <td>0.72</td>\n",
       "      <td>0.73</td>\n",
       "      <td>3.4</td>\n",
       "    </tr>\n",
       "    <tr>\n",
       "      <th>Earth</th>\n",
       "      <td>Earth</td>\n",
       "      <td>365.26d</td>\n",
       "      <td>0.98</td>\n",
       "      <td>1.02</td>\n",
       "      <td>0.0</td>\n",
       "    </tr>\n",
       "    <tr>\n",
       "      <th>Mars</th>\n",
       "      <td>Mars</td>\n",
       "      <td>686.98d</td>\n",
       "      <td>1.38</td>\n",
       "      <td>1.67</td>\n",
       "      <td>1.8</td>\n",
       "    </tr>\n",
       "    <tr>\n",
       "      <th>Jupiter</th>\n",
       "      <td>Jupiter</td>\n",
       "      <td>11.86y</td>\n",
       "      <td>4.95</td>\n",
       "      <td>5.45</td>\n",
       "      <td>1.3</td>\n",
       "    </tr>\n",
       "    <tr>\n",
       "      <th>Saturn</th>\n",
       "      <td>Saturn</td>\n",
       "      <td>29.46y</td>\n",
       "      <td>9.01</td>\n",
       "      <td>10.07</td>\n",
       "      <td>2.5</td>\n",
       "    </tr>\n",
       "    <tr>\n",
       "      <th>Uranus</th>\n",
       "      <td>Uranus</td>\n",
       "      <td>84.01y</td>\n",
       "      <td>18.28</td>\n",
       "      <td>20.09</td>\n",
       "      <td>0.8</td>\n",
       "    </tr>\n",
       "    <tr>\n",
       "      <th>Neptune</th>\n",
       "      <td>Neptune</td>\n",
       "      <td>164.79y</td>\n",
       "      <td>29.80</td>\n",
       "      <td>30.32</td>\n",
       "      <td>1.8</td>\n",
       "    </tr>\n",
       "  </tbody>\n",
       "</table>\n",
       "</div>"
      ],
      "text/plain": [
       "            Name Sidereal Period Perihelion (AU) Aphelion (AU)  \\\n",
       "Mercury  Mercury          87.97d            0.31          0.47   \n",
       "Venus      Venus         224.70d            0.72          0.73   \n",
       "Earth      Earth         365.26d            0.98          1.02   \n",
       "Mars        Mars         686.98d            1.38          1.67   \n",
       "Jupiter  Jupiter          11.86y            4.95          5.45   \n",
       "Saturn    Saturn          29.46y            9.01         10.07   \n",
       "Uranus    Uranus          84.01y           18.28         20.09   \n",
       "Neptune  Neptune         164.79y           29.80         30.32   \n",
       "\n",
       "        Inclination (degrees)  \n",
       "Mercury                   7.0  \n",
       "Venus                     3.4  \n",
       "Earth                     0.0  \n",
       "Mars                      1.8  \n",
       "Jupiter                   1.3  \n",
       "Saturn                    2.5  \n",
       "Uranus                    0.8  \n",
       "Neptune                   1.8  "
      ]
     },
     "execution_count": 10,
     "metadata": {},
     "output_type": "execute_result"
    }
   ],
   "source": [
    "data=data.drop(data.index[0])\n",
    "data"
   ]
  },
  {
   "cell_type": "markdown",
   "metadata": {},
   "source": [
    "## Por nombre de la fila "
   ]
  },
  {
   "cell_type": "code",
   "execution_count": 11,
   "metadata": {},
   "outputs": [
    {
     "data": {
      "text/html": [
       "<div>\n",
       "<style scoped>\n",
       "    .dataframe tbody tr th:only-of-type {\n",
       "        vertical-align: middle;\n",
       "    }\n",
       "\n",
       "    .dataframe tbody tr th {\n",
       "        vertical-align: top;\n",
       "    }\n",
       "\n",
       "    .dataframe thead th {\n",
       "        text-align: right;\n",
       "    }\n",
       "</style>\n",
       "<table border=\"1\" class=\"dataframe\">\n",
       "  <thead>\n",
       "    <tr style=\"text-align: right;\">\n",
       "      <th></th>\n",
       "      <th>Sidereal Period</th>\n",
       "      <th>Perihelion (AU)</th>\n",
       "      <th>Aphelion (AU)</th>\n",
       "      <th>Inclination (degrees)</th>\n",
       "    </tr>\n",
       "  </thead>\n",
       "  <tbody>\n",
       "    <tr>\n",
       "      <th>Mercury</th>\n",
       "      <td>87.97d</td>\n",
       "      <td>0.31</td>\n",
       "      <td>0.47</td>\n",
       "      <td>7.0</td>\n",
       "    </tr>\n",
       "    <tr>\n",
       "      <th>Venus</th>\n",
       "      <td>224.70d</td>\n",
       "      <td>0.72</td>\n",
       "      <td>0.73</td>\n",
       "      <td>3.4</td>\n",
       "    </tr>\n",
       "    <tr>\n",
       "      <th>Earth</th>\n",
       "      <td>365.26d</td>\n",
       "      <td>0.98</td>\n",
       "      <td>1.02</td>\n",
       "      <td>0.0</td>\n",
       "    </tr>\n",
       "    <tr>\n",
       "      <th>Mars</th>\n",
       "      <td>686.98d</td>\n",
       "      <td>1.38</td>\n",
       "      <td>1.67</td>\n",
       "      <td>1.8</td>\n",
       "    </tr>\n",
       "    <tr>\n",
       "      <th>Jupiter</th>\n",
       "      <td>11.86y</td>\n",
       "      <td>4.95</td>\n",
       "      <td>5.45</td>\n",
       "      <td>1.3</td>\n",
       "    </tr>\n",
       "    <tr>\n",
       "      <th>Saturn</th>\n",
       "      <td>29.46y</td>\n",
       "      <td>9.01</td>\n",
       "      <td>10.07</td>\n",
       "      <td>2.5</td>\n",
       "    </tr>\n",
       "    <tr>\n",
       "      <th>Uranus</th>\n",
       "      <td>84.01y</td>\n",
       "      <td>18.28</td>\n",
       "      <td>20.09</td>\n",
       "      <td>0.8</td>\n",
       "    </tr>\n",
       "    <tr>\n",
       "      <th>Neptune</th>\n",
       "      <td>164.79y</td>\n",
       "      <td>29.80</td>\n",
       "      <td>30.32</td>\n",
       "      <td>1.8</td>\n",
       "    </tr>\n",
       "  </tbody>\n",
       "</table>\n",
       "</div>"
      ],
      "text/plain": [
       "        Sidereal Period Perihelion (AU) Aphelion (AU) Inclination (degrees)\n",
       "Mercury          87.97d            0.31          0.47                   7.0\n",
       "Venus           224.70d            0.72          0.73                   3.4\n",
       "Earth           365.26d            0.98          1.02                   0.0\n",
       "Mars            686.98d            1.38          1.67                   1.8\n",
       "Jupiter          11.86y            4.95          5.45                   1.3\n",
       "Saturn           29.46y            9.01         10.07                   2.5\n",
       "Uranus           84.01y           18.28         20.09                   0.8\n",
       "Neptune         164.79y           29.80         30.32                   1.8"
      ]
     },
     "execution_count": 11,
     "metadata": {},
     "output_type": "execute_result"
    }
   ],
   "source": [
    "df=df.drop(['Name'])\n",
    "df"
   ]
  },
  {
   "cell_type": "code",
   "execution_count": 12,
   "metadata": {},
   "outputs": [
    {
     "data": {
      "text/plain": [
       "(8,)"
      ]
     },
     "execution_count": 12,
     "metadata": {},
     "output_type": "execute_result"
    }
   ],
   "source": [
    "df['Sidereal Period'].shape"
   ]
  },
  {
   "cell_type": "code",
   "execution_count": 13,
   "metadata": {},
   "outputs": [
    {
     "data": {
      "text/plain": [
       "[87.97, 224.7, 365.26, 686.98, 11.86, 29.46, 84.01, 164.79]"
      ]
     },
     "execution_count": 13,
     "metadata": {},
     "output_type": "execute_result"
    }
   ],
   "source": [
    "datos=[float(df['Sidereal Period'].values[i][:-1]) for i in range(8)]\n",
    "datos"
   ]
  },
  {
   "cell_type": "code",
   "execution_count": 14,
   "metadata": {},
   "outputs": [],
   "source": [
    "df.insert(1,'Period',datos)"
   ]
  },
  {
   "cell_type": "code",
   "execution_count": 15,
   "metadata": {},
   "outputs": [],
   "source": [
    "df=df.drop('Sidereal Period', axis=1)\n"
   ]
  },
  {
   "cell_type": "code",
   "execution_count": 16,
   "metadata": {},
   "outputs": [],
   "source": [
    "df=df.astype(float)"
   ]
  },
  {
   "cell_type": "code",
   "execution_count": 17,
   "metadata": {},
   "outputs": [],
   "source": [
    "df.to_csv('./orbitas_limpio.csv')"
   ]
  },
  {
   "cell_type": "code",
   "execution_count": 20,
   "metadata": {},
   "outputs": [
    {
     "data": {
      "text/plain": [
       "['Period', 'Perihelion (AU)', 'Aphelion (AU)', 'Inclination (degrees)']"
      ]
     },
     "execution_count": 20,
     "metadata": {},
     "output_type": "execute_result"
    }
   ],
   "source": [
    "columna=list(df.columns.values)\n",
    "columna"
   ]
  },
  {
   "cell_type": "markdown",
   "metadata": {},
   "source": [
    "# Histogramas de cada columna"
   ]
  },
  {
   "cell_type": "code",
   "execution_count": 24,
   "metadata": {},
   "outputs": [
    {
     "data": {
      "image/png": "[encoded data removed]",
      "text/plain": [
       "<Figure size 432x288 with 1 Axes>"
      ]
     },
     "metadata": {},
     "output_type": "display_data"
    }
   ],
   "source": [
    "import matplotlib.pyplot as plt\n",
    "\n",
    "df[[columna[i] for i in [1,2,3]]].plot(kind=\"bar\")\n",
    "plt.show()"
   ]
  },
  {
   "cell_type": "code",
   "execution_count": null,
   "metadata": {},
   "outputs": [],
   "source": []
  }
 ],
 "metadata": {
  "kernelspec": {
   "display_name": "Python 3",
   "language": "python",
   "name": "python3"
  },
  "language_info": {
   "codemirror_mode": {
    "name": "ipython",
    "version": 3
   },
   "file_extension": ".py",
   "mimetype": "text/x-python",
   "name": "python",
   "nbconvert_exporter": "python",
   "pygments_lexer": "ipython3",
   "version": "3.6.8"
  }
 },
 "nbformat": 4,
 "nbformat_minor": 2
}
